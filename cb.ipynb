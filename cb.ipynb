{
 "cells": [
  {
   "cell_type": "code",
   "execution_count": 1,
   "metadata": {},
   "outputs": [],
   "source": [
    "import pandas as pd\n",
    "from utils import preprocess, plot_ctr, costs_to_ctr\n",
    "from cb import simulate\n",
    "from vowpalwabbit import Workspace\n",
    "import numpy as np\n",
    "import matplotlib.pyplot as plt"
   ]
  },
  {
   "cell_type": "code",
   "execution_count": 2,
   "metadata": {},
   "outputs": [
    {
     "data": {
      "text/html": [
       "<div>\n",
       "<style scoped>\n",
       "    .dataframe tbody tr th:only-of-type {\n",
       "        vertical-align: middle;\n",
       "    }\n",
       "\n",
       "    .dataframe tbody tr th {\n",
       "        vertical-align: top;\n",
       "    }\n",
       "\n",
       "    .dataframe thead th {\n",
       "        text-align: right;\n",
       "    }\n",
       "</style>\n",
       "<table border=\"1\" class=\"dataframe\">\n",
       "  <thead>\n",
       "    <tr style=\"text-align: right;\">\n",
       "      <th></th>\n",
       "      <th>Gender</th>\n",
       "      <th>Age</th>\n",
       "      <th>Height</th>\n",
       "      <th>Weight</th>\n",
       "      <th>family_history_with_overweight</th>\n",
       "      <th>FAVC</th>\n",
       "      <th>FCVC</th>\n",
       "      <th>NCP</th>\n",
       "      <th>CAEC</th>\n",
       "      <th>SMOKE</th>\n",
       "      <th>CH2O</th>\n",
       "      <th>SCC</th>\n",
       "      <th>FAF</th>\n",
       "      <th>TUE</th>\n",
       "      <th>CALC</th>\n",
       "      <th>MTRANS</th>\n",
       "    </tr>\n",
       "  </thead>\n",
       "  <tbody>\n",
       "    <tr>\n",
       "      <th>0</th>\n",
       "      <td>0</td>\n",
       "      <td>24.443011</td>\n",
       "      <td>1.699998</td>\n",
       "      <td>81.669950</td>\n",
       "      <td>0</td>\n",
       "      <td>0</td>\n",
       "      <td>2.000000</td>\n",
       "      <td>2.983297</td>\n",
       "      <td>0</td>\n",
       "      <td>0</td>\n",
       "      <td>2.763573</td>\n",
       "      <td>0</td>\n",
       "      <td>0.000000</td>\n",
       "      <td>0.976473</td>\n",
       "      <td>0</td>\n",
       "      <td>0</td>\n",
       "    </tr>\n",
       "    <tr>\n",
       "      <th>1</th>\n",
       "      <td>1</td>\n",
       "      <td>18.000000</td>\n",
       "      <td>1.560000</td>\n",
       "      <td>57.000000</td>\n",
       "      <td>0</td>\n",
       "      <td>0</td>\n",
       "      <td>2.000000</td>\n",
       "      <td>3.000000</td>\n",
       "      <td>1</td>\n",
       "      <td>0</td>\n",
       "      <td>2.000000</td>\n",
       "      <td>0</td>\n",
       "      <td>1.000000</td>\n",
       "      <td>1.000000</td>\n",
       "      <td>1</td>\n",
       "      <td>1</td>\n",
       "    </tr>\n",
       "    <tr>\n",
       "      <th>2</th>\n",
       "      <td>1</td>\n",
       "      <td>18.000000</td>\n",
       "      <td>1.711460</td>\n",
       "      <td>50.165754</td>\n",
       "      <td>0</td>\n",
       "      <td>0</td>\n",
       "      <td>1.880534</td>\n",
       "      <td>1.411685</td>\n",
       "      <td>0</td>\n",
       "      <td>0</td>\n",
       "      <td>1.910378</td>\n",
       "      <td>0</td>\n",
       "      <td>0.866045</td>\n",
       "      <td>1.673584</td>\n",
       "      <td>1</td>\n",
       "      <td>0</td>\n",
       "    </tr>\n",
       "    <tr>\n",
       "      <th>3</th>\n",
       "      <td>1</td>\n",
       "      <td>20.952737</td>\n",
       "      <td>1.710730</td>\n",
       "      <td>131.274851</td>\n",
       "      <td>0</td>\n",
       "      <td>0</td>\n",
       "      <td>3.000000</td>\n",
       "      <td>3.000000</td>\n",
       "      <td>0</td>\n",
       "      <td>0</td>\n",
       "      <td>1.674061</td>\n",
       "      <td>0</td>\n",
       "      <td>1.467863</td>\n",
       "      <td>0.780199</td>\n",
       "      <td>0</td>\n",
       "      <td>0</td>\n",
       "    </tr>\n",
       "    <tr>\n",
       "      <th>4</th>\n",
       "      <td>0</td>\n",
       "      <td>31.641081</td>\n",
       "      <td>1.914186</td>\n",
       "      <td>93.798055</td>\n",
       "      <td>0</td>\n",
       "      <td>0</td>\n",
       "      <td>2.679664</td>\n",
       "      <td>1.971472</td>\n",
       "      <td>0</td>\n",
       "      <td>0</td>\n",
       "      <td>1.979848</td>\n",
       "      <td>0</td>\n",
       "      <td>1.967973</td>\n",
       "      <td>0.931721</td>\n",
       "      <td>0</td>\n",
       "      <td>0</td>\n",
       "    </tr>\n",
       "  </tbody>\n",
       "</table>\n",
       "</div>"
      ],
      "text/plain": [
       "   Gender        Age    Height      Weight  family_history_with_overweight  \\\n",
       "0       0  24.443011  1.699998   81.669950                               0   \n",
       "1       1  18.000000  1.560000   57.000000                               0   \n",
       "2       1  18.000000  1.711460   50.165754                               0   \n",
       "3       1  20.952737  1.710730  131.274851                               0   \n",
       "4       0  31.641081  1.914186   93.798055                               0   \n",
       "\n",
       "   FAVC      FCVC       NCP  CAEC  SMOKE      CH2O  SCC       FAF       TUE  \\\n",
       "0     0  2.000000  2.983297     0      0  2.763573    0  0.000000  0.976473   \n",
       "1     0  2.000000  3.000000     1      0  2.000000    0  1.000000  1.000000   \n",
       "2     0  1.880534  1.411685     0      0  1.910378    0  0.866045  1.673584   \n",
       "3     0  3.000000  3.000000     0      0  1.674061    0  1.467863  0.780199   \n",
       "4     0  2.679664  1.971472     0      0  1.979848    0  1.967973  0.931721   \n",
       "\n",
       "   CALC  MTRANS  \n",
       "0     0       0  \n",
       "1     1       1  \n",
       "2     1       0  \n",
       "3     0       0  \n",
       "4     0       0  "
      ]
     },
     "execution_count": 2,
     "metadata": {},
     "output_type": "execute_result"
    }
   ],
   "source": [
    "df = pd.read_csv(\"train.csv\")\n",
    "X, y, label_mapping = preprocess(df)\n",
    "X.head()"
   ]
  },
  {
   "cell_type": "code",
   "execution_count": 3,
   "metadata": {},
   "outputs": [],
   "source": [
    "X = X.to_numpy()\n",
    "y = y.to_numpy()"
   ]
  },
  {
   "cell_type": "code",
   "execution_count": 4,
   "metadata": {},
   "outputs": [
    {
     "data": {
      "image/png": "[encoded data removed]",
      "text/plain": [
       "<Figure size 640x480 with 1 Axes>"
      ]
     },
     "metadata": {},
     "output_type": "display_data"
    }
   ],
   "source": [
    "model = Workspace(f\"--cb_explore {7} --first 100\", enable_logging=True)\n",
    "costs = simulate(model, X, y, np.unique(y), True)\n",
    "ctr = costs_to_ctr(costs)\n",
    "plot_ctr(ctr)\n",
    "plt.show()"
   ]
  },
  {
   "cell_type": "code",
   "execution_count": 5,
   "metadata": {},
   "outputs": [
    {
     "data": {
      "text/plain": [
       "0.6835918681953945"
      ]
     },
     "execution_count": 5,
     "metadata": {},
     "output_type": "execute_result"
    }
   ],
   "source": [
    "avg_regret = ctr[-1]\n",
    "avg_regret"
   ]
  },
  {
   "cell_type": "code",
   "execution_count": 6,
   "metadata": {},
   "outputs": [
    {
     "data": {
      "text/plain": [
       "['using no cache',\n",
       " 'Reading datafile = none',\n",
       " 'num sources = 0',\n",
       " 'Num weight bits = 18',\n",
       " 'learning rate = 0.5',\n",
       " 'initial_t = 0',\n",
       " 'power_t = 0.5',\n",
       " 'cb_type = mtr',\n",
       " 'Enabled learners: gd, scorer-identity, csoaa_ldf-rank, cb_adf, cb_explore_adf_first, shared_feature_merger, cb_to_cbadf',\n",
       " 'Input label = CB',\n",
       " 'Output pred = ACTION_PROBS',\n",
       " 'average  since         example        example        current        current  current',\n",
       " 'loss     last          counter         weight          label        predict features',\n",
       " 'n.a.     n.a.                1            1.0        unknown         0:0.14      119',\n",
       " 'n.a.     n.a.                2            2.0        unknown         0:0.14      119',\n",
       " 'n.a.     n.a.                4            4.0        unknown         0:0.14      119',\n",
       " 'n.a.     n.a.                8            8.0        unknown         0:0.14      119',\n",
       " 'n.a.     n.a.               16           16.0        unknown         0:0.14      119',\n",
       " 'n.a.     n.a.               32           32.0        unknown         0:0.14      119',\n",
       " 'n.a.     n.a.               64           64.0        unknown         3:0.14      119',\n",
       " 'n.a.     n.a.              128          128.0        unknown            3:1      119',\n",
       " 'n.a.     n.a.              256          256.0        unknown            3:1      119',\n",
       " 'n.a.     n.a.              512          512.0        unknown            3:1      119',\n",
       " 'n.a.     n.a.             1024         1024.0        unknown            3:1      119',\n",
       " 'n.a.     n.a.             2048         2048.0        unknown            3:1      119',\n",
       " 'n.a.     n.a.             4096         4096.0        unknown            6:1      119',\n",
       " 'n.a.     n.a.             8192         8192.0        unknown            3:1      119',\n",
       " 'n.a.     n.a.            16384        16384.0        unknown            1:1      119',\n",
       " '',\n",
       " 'finished run',\n",
       " 'number of examples = 20758',\n",
       " 'weighted example sum = 20758.000000',\n",
       " 'weighted label sum = 0.000000',\n",
       " 'average loss = n.a.',\n",
       " 'total feature number = 2470202',\n",
       " '']"
      ]
     },
     "execution_count": 6,
     "metadata": {},
     "output_type": "execute_result"
    }
   ],
   "source": [
    "model.finish()\n",
    "model.get_log()"
   ]
  }
 ],
 "metadata": {
  "kernelspec": {
   "display_name": "vw",
   "language": "python",
   "name": "python3"
  },
  "language_info": {
   "codemirror_mode": {
    "name": "ipython",
    "version": 3
   },
   "file_extension": ".py",
   "mimetype": "text/x-python",
   "name": "python",
   "nbconvert_exporter": "python",
   "pygments_lexer": "ipython3",
   "version": "3.10.0"
  }
 },
 "nbformat": 4,
 "nbformat_minor": 2
}
